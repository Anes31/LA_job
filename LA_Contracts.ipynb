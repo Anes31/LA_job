{
 "cells": [
  {
   "cell_type": "code",
   "execution_count": 2,
   "metadata": {},
   "outputs": [],
   "source": [
    "import nltk\n",
    "import pandas as pd\n",
    "import numpy as np\n",
    "import codecs\n",
    "import PyPDF2\n",
    "import copy"
   ]
  },
  {
   "cell_type": "code",
   "execution_count": 3,
   "metadata": {},
   "outputs": [
    {
     "name": "stderr",
     "output_type": "stream",
     "text": [
      "PdfReadWarning: Xref table not zero-indexed. ID numbers for objects will be corrected. [pdf.py:1736]\n"
     ]
    }
   ],
   "source": [
    "pdfFileObject = open('All_MOUs.pdf', 'rb')\n",
    "pdfReader = PyPDF2.PdfFileReader(pdfFileObject)\n",
    "count = pdfReader.numPages\n",
    "myPdf_raw = dict()\n",
    "for i in range(16, count):\n",
    "    page = pdfReader.getPage(i)\n",
    "    myPdf_raw[i] = page.extractText()"
   ]
  },
  {
   "cell_type": "code",
   "execution_count": 4,
   "metadata": {},
   "outputs": [
    {
     "name": "stdout",
     "output_type": "stream",
     "text": [
      "7398\n"
     ]
    }
   ],
   "source": [
    "'''j = 16\n",
    "for i in range(len(myPdf_copy)):\n",
    "    myPdf_copy[i] = myPdf_copy[j]\n",
    "    myPdf_copy.pop(j)\n",
    "    j += 1'''\n",
    "\n",
    "myPdf_copy = copy.deepcopy(myPdf_raw)\n",
    "print(len(myPdf_copy)) #the ouput is 7398 instead of 7414 because the 16 pages don't have any text (7414-16=7398)"
   ]
  },
  {
   "cell_type": "code",
   "execution_count": 5,
   "metadata": {},
   "outputs": [],
   "source": [
    "for key in myPdf_copy:\n",
    "    myPdf_copy[key] = ' '.join(myPdf_copy[key].split()).lower()"
   ]
  },
  {
   "cell_type": "code",
   "execution_count": 6,
   "metadata": {
    "scrolled": false
   },
   "outputs": [],
   "source": [
    "count = 0\n",
    "new_contract_first_page = list()\n",
    "for key, value in myPdf_copy.items():\n",
    "    if 'this memorandum of understanding made' in value:\n",
    "        count += 1\n",
    "        new_contract_first_page.append(key)       "
   ]
  },
  {
   "cell_type": "code",
   "execution_count": 7,
   "metadata": {},
   "outputs": [
    {
     "name": "stdout",
     "output_type": "stream",
     "text": [
      "41\n"
     ]
    }
   ],
   "source": [
    "print(len(new_contract_first_page))"
   ]
  },
  {
   "cell_type": "code",
   "execution_count": 8,
   "metadata": {},
   "outputs": [
    {
     "name": "stdout",
     "output_type": "stream",
     "text": [
      "[16, 476, 580, 757, 1039, 1403, 1464, 1778, 1961, 2038, 2357, 2812, 3059, 3645, 3876, 4078, 4317, 4568, 4620, 4694, 4781, 4858, 5016, 5204, 5258, 5416, 5651, 5700, 5782, 6054, 6141, 6195, 6589, 6655, 6774, 6855, 6931, 7044, 7084, 7130, 7243]\n"
     ]
    }
   ],
   "source": [
    "print(new_contract_first_page)"
   ]
  },
  {
   "cell_type": "code",
   "execution_count": 9,
   "metadata": {},
   "outputs": [
    {
     "name": "stdout",
     "output_type": "stream",
     "text": [
      "44\n"
     ]
    }
   ],
   "source": [
    "new_contract_first_page.append(5469-1) #not added automatically due to junmple considered as space (un derstanding)\n",
    "new_contract_first_page.append(5930-1) #not added automtically due to image input (not uncoded)\n",
    "new_contract_first_page.append(6997-1) #not added automtically due to image input (not uncoded)\n",
    "print(len(new_contract_first_page))"
   ]
  },
  {
   "cell_type": "code",
   "execution_count": 10,
   "metadata": {},
   "outputs": [
    {
     "name": "stdout",
     "output_type": "stream",
     "text": [
      "[16, 476, 580, 757, 1039, 1403, 1464, 1778, 1961, 2038, 2357, 2812, 3059, 3645, 3876, 4078, 4317, 4568, 4620, 4694, 4781, 4858, 5016, 5204, 5258, 5416, 5468, 5651, 5700, 5782, 5929, 6054, 6141, 6195, 6589, 6655, 6774, 6855, 6931, 6996, 7044, 7084, 7130, 7243]\n"
     ]
    }
   ],
   "source": [
    "new_contract_first_page.sort()\n",
    "print(new_contract_first_page)"
   ]
  },
  {
   "cell_type": "code",
   "execution_count": 11,
   "metadata": {},
   "outputs": [],
   "source": [
    "myPdf_By_Contract = dict()\n",
    "for i, element in enumerate(new_contract_first_page):\n",
    "    if i < len(new_contract_first_page)-1:\n",
    "        myPdf_By_Contract[i] = [myPdf_copy[x] for x in range(element, new_contract_first_page[i+1])]\n",
    "myPdf_By_Contract[i] = [myPdf_copy[x] for x in (range(element, len(myPdf_copy)))]"
   ]
  },
  {
   "cell_type": "code",
   "execution_count": 12,
   "metadata": {
    "scrolled": true
   },
   "outputs": [
    {
     "data": {
      "text/plain": [
       "44"
      ]
     },
     "execution_count": 12,
     "metadata": {},
     "output_type": "execute_result"
    }
   ],
   "source": [
    "len(myPdf_By_Contract)"
   ]
  },
  {
   "cell_type": "code",
   "execution_count": null,
   "metadata": {},
   "outputs": [],
   "source": []
  }
 ],
 "metadata": {
  "kernelspec": {
   "display_name": "Python 3",
   "language": "python",
   "name": "python3"
  },
  "language_info": {
   "codemirror_mode": {
    "name": "ipython",
    "version": 3
   },
   "file_extension": ".py",
   "mimetype": "text/x-python",
   "name": "python",
   "nbconvert_exporter": "python",
   "pygments_lexer": "ipython3",
   "version": "3.7.1"
  }
 },
 "nbformat": 4,
 "nbformat_minor": 2
}
