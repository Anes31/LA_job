{
 "cells": [
  {
   "cell_type": "code",
   "execution_count": 3,
   "metadata": {},
   "outputs": [],
   "source": [
    "import nltk\n",
    "import pandas as pd\n",
    "import numpy as np\n",
    "import codecs\n",
    "import PyPDF2\n",
    "import copy\n",
    "import pickle"
   ]
  },
  {
   "cell_type": "code",
   "execution_count": 2,
   "metadata": {},
   "outputs": [
    {
     "name": "stderr",
     "output_type": "stream",
     "text": [
      "PdfReadWarning: Xref table not zero-indexed. ID numbers for objects will be corrected. [pdf.py:1736]\n"
     ]
    }
   ],
   "source": [
    "pdfFileObject = open('All_MOUs.pdf', 'rb')\n",
    "pdfReader = PyPDF2.PdfFileReader(pdfFileObject)\n",
    "count = pdfReader.numPages\n",
    "myPdf_raw = dict()\n",
    "for i in range(16, count):\n",
    "    page = pdfReader.getPage(i)\n",
    "    myPdf_raw[i] = page.extractText()"
   ]
  },
  {
   "cell_type": "code",
   "execution_count": 4,
   "metadata": {},
   "outputs": [
    {
     "name": "stdout",
     "output_type": "stream",
     "text": [
      "7398\n"
     ]
    }
   ],
   "source": [
    "myPdf_copy = copy.deepcopy(myPdf_raw)\n",
    "print(len(myPdf_copy)) #the ouput is 7398 instead of 7414 because the 16 pages don't have any text (7414-16=7398)"
   ]
  },
  {
   "cell_type": "code",
   "execution_count": 5,
   "metadata": {},
   "outputs": [],
   "source": [
    "for key in myPdf_copy:\n",
    "    myPdf_copy[key] = ' '.join(myPdf_copy[key].split()).lower()"
   ]
  },
  {
   "cell_type": "code",
   "execution_count": 6,
   "metadata": {},
   "outputs": [
    {
     "data": {
      "text/html": [
       "<div>\n",
       "<style scoped>\n",
       "    .dataframe tbody tr th:only-of-type {\n",
       "        vertical-align: middle;\n",
       "    }\n",
       "\n",
       "    .dataframe tbody tr th {\n",
       "        vertical-align: top;\n",
       "    }\n",
       "\n",
       "    .dataframe thead th {\n",
       "        text-align: right;\n",
       "    }\n",
       "</style>\n",
       "<table border=\"1\" class=\"dataframe\">\n",
       "  <thead>\n",
       "    <tr style=\"text-align: right;\">\n",
       "      <th></th>\n",
       "      <th>content</th>\n",
       "      <th>compensation</th>\n",
       "    </tr>\n",
       "  </thead>\n",
       "  <tbody>\n",
       "    <tr>\n",
       "      <th>7409</th>\n",
       "      <td>city of los angeles class code/title and mou n...</td>\n",
       "      <td>0</td>\n",
       "    </tr>\n",
       "    <tr>\n",
       "      <th>7410</th>\n",
       "      <td>city of los angeles class code/title and mou n...</td>\n",
       "      <td>0</td>\n",
       "    </tr>\n",
       "    <tr>\n",
       "      <th>7411</th>\n",
       "      <td>city of los angeles general manager salary ran...</td>\n",
       "      <td>0</td>\n",
       "    </tr>\n",
       "    <tr>\n",
       "      <th>7412</th>\n",
       "      <td>city of los angeles general manager salary ran...</td>\n",
       "      <td>0</td>\n",
       "    </tr>\n",
       "    <tr>\n",
       "      <th>7413</th>\n",
       "      <td>city of los angeles general manager salary ran...</td>\n",
       "      <td>0</td>\n",
       "    </tr>\n",
       "  </tbody>\n",
       "</table>\n",
       "</div>"
      ],
      "text/plain": [
       "                                                content  compensation\n",
       "7409  city of los angeles class code/title and mou n...             0\n",
       "7410  city of los angeles class code/title and mou n...             0\n",
       "7411  city of los angeles general manager salary ran...             0\n",
       "7412  city of los angeles general manager salary ran...             0\n",
       "7413  city of los angeles general manager salary ran...             0"
      ]
     },
     "execution_count": 6,
     "metadata": {},
     "output_type": "execute_result"
    }
   ],
   "source": [
    "myData = pd.DataFrame.from_dict(myPdf_copy, orient='index')\n",
    "myData.columns= ['content']\n",
    "myData['compensation'] = 0\n",
    "myData.head()\n",
    "myData.tail()"
   ]
  },
  {
   "cell_type": "code",
   "execution_count": 7,
   "metadata": {},
   "outputs": [],
   "source": [
    "myData.loc[myData.index[47:58], ['compensation']] = 1\n",
    "myData.loc[myData.index[175:188], ['compensation']] = 1\n",
    "myData.loc[myData.index[271:280], ['compensation']] = 1\n",
    "myData.loc[myData.index[788:801], ['compensation']] = 1\n",
    "myData.loc[myData.index[895:909], ['compensation']] = 1\n",
    "myData.loc[myData.index[1067:1082], ['compensation']] = 1\n",
    "myData.loc[myData.index[1150:1163], ['compensation']] = 1\n",
    "myData.loc[myData.index[1213:1221], ['compensation']] = 1\n",
    "myData.loc[myData.index[1287:1293], ['compensation']] = 1\n",
    "myData.loc[myData.index[1422:1427], ['compensation']] = 1\n",
    "myData.loc[myData.index[1480:1485], ['compensation']] = 1\n",
    "myData.loc[myData.index[1620:1633], ['compensation']] = 1\n",
    "myData.loc[myData.index[1708:1718], ['compensation']] = 1\n",
    "myData.loc[myData.index[1808:1819], ['compensation']] = 1\n",
    "myData.loc[myData.index[1885:1898], ['compensation']] = 1\n",
    "myData.loc[myData.index[2406:2416], ['compensation']] = 1\n",
    "myData.loc[myData.index[2495:2508], ['compensation']] = 1\n",
    "myData.loc[myData.index[2661:2668], ['compensation']] = 1\n",
    "myData.loc[myData.index[2426:2733], ['compensation']] = 1\n",
    "myData.loc[myData.index[2842:2854], ['compensation']] = 1\n",
    "myData.loc[myData.index[2933:2945], ['compensation']] = 1\n",
    "myData.loc[myData.index[3089:3100], ['compensation']] = 1\n",
    "myData.loc[myData.index[3172:3183], ['compensation']] = 1\n",
    "myData.loc[myData.index[3288:3297], ['compensation']] = 1\n",
    "myData.loc[myData.index[3359:3370], ['compensation']] = 1\n",
    "myData.loc[myData.index[3501:3514], ['compensation']] = 1\n",
    "myData.loc[myData.index[3582:3592], ['compensation']] = 1\n",
    "myData.loc[myData.index[3676:3688], ['compensation']] = 1\n",
    "myData.loc[myData.index[3762:3775], ['compensation']] = 1\n",
    "myData.loc[myData.index[3908:3921], ['compensation']] = 1\n",
    "myData.loc[myData.index[4014:4028], ['compensation']] = 1\n",
    "myData.loc[myData.index[4111:4124], ['compensation']] = 1\n",
    "myData.loc[myData.index[4248:4261], ['compensation']] = 1\n",
    "myData.loc[myData.index[4351:4364], ['compensation']] = 1\n",
    "myData.loc[myData.index[4494:4507], ['compensation']] = 1\n",
    "myData.loc[myData.index[4532:4534], ['compensation']] = 1\n",
    "myData.loc[myData.index[4897:4905], ['compensation']] = 1\n",
    "myData.loc[myData.index[5055:5063], ['compensation']] = 1\n",
    "myData.loc[myData.index[5218:5221], ['compensation']] = 1\n",
    "myData.loc[myData.index[5271:5275], ['compensation']] = 1\n",
    "myData.loc[myData.index[5457:5463], ['compensation']] = 1\n",
    "myData.loc[myData.index[5504:5510], ['compensation']] = 1\n",
    "myData.loc[myData.index[5578:5584], ['compensation']] = 1\n",
    "myData.loc[myData.index[5613:5622], ['compensation']] = 1\n",
    "myData.loc[myData.index[5832:5837], ['compensation']] = 1\n",
    "myData.loc[myData.index[6161:6164], ['compensation']] = 1\n",
    "myData.loc[myData.index[6216:6219], ['compensation']] = 1\n",
    "myData.loc[myData.index[6826:6832], ['compensation']] = 1\n",
    "myData.loc[myData.index[6902:6907], ['compensation']] = 1\n",
    "myData.loc[myData.index[6975:6978], ['compensation']] = 1\n",
    "myData.loc[myData.index[7015:7022], ['compensation']] = 1\n",
    "myData.loc[myData.index[7101:7105], ['compensation']] = 1\n",
    "myData.loc[myData.index[7144:7152], ['compensation']] = 1\n",
    "myData.loc[myData.index[7196:7201], ['compensation']] = 1"
   ]
  },
  {
   "cell_type": "code",
   "execution_count": 53,
   "metadata": {},
   "outputs": [
    {
     "data": {
      "text/plain": [
       "content         object\n",
       "compensation     int64\n",
       "dtype: object"
      ]
     },
     "execution_count": 53,
     "metadata": {},
     "output_type": "execute_result"
    }
   ],
   "source": [
    "myData.to_csv('LAData.csv', encoding='utf-8')\n",
    "myData_clean = pd.read_csv('LAData.csv', index_col = 'pages', names = ['pages', 'content', 'compensation'], header=0)\n",
    "myData_clean.head()\n",
    "myData_clean.describe()\n",
    "myData_clean['content'] = myData_clean['content'].astype(str)\n",
    "myData_clean.dtypes"
   ]
  },
  {
   "cell_type": "code",
   "execution_count": 59,
   "metadata": {
    "scrolled": false
   },
   "outputs": [
    {
     "data": {
      "text/html": [
       "<div>\n",
       "<style scoped>\n",
       "    .dataframe tbody tr th:only-of-type {\n",
       "        vertical-align: middle;\n",
       "    }\n",
       "\n",
       "    .dataframe tbody tr th {\n",
       "        vertical-align: top;\n",
       "    }\n",
       "\n",
       "    .dataframe thead th {\n",
       "        text-align: right;\n",
       "    }\n",
       "</style>\n",
       "<table border=\"1\" class=\"dataframe\">\n",
       "  <thead>\n",
       "    <tr style=\"text-align: right;\">\n",
       "      <th></th>\n",
       "      <th>content</th>\n",
       "      <th>compensation</th>\n",
       "      <th>tokens</th>\n",
       "    </tr>\n",
       "    <tr>\n",
       "      <th>pages</th>\n",
       "      <th></th>\n",
       "      <th></th>\n",
       "      <th></th>\n",
       "    </tr>\n",
       "  </thead>\n",
       "  <tbody>\n",
       "    <tr>\n",
       "      <th>16</th>\n",
       "      <td>memorandum of understanding no. 1 for submissi...</td>\n",
       "      <td>0</td>\n",
       "      <td>[memorandum, of, understanding, no, for, submi...</td>\n",
       "    </tr>\n",
       "    <tr>\n",
       "      <th>17</th>\n",
       "      <td>i mou 01 7/2/2013 œ 6/30/2016 table of content...</td>\n",
       "      <td>0</td>\n",
       "      <td>[i, mou, table, of, contents, page, general, p...</td>\n",
       "    </tr>\n",
       "    <tr>\n",
       "      <th>18</th>\n",
       "      <td>ii mou 01 7/2/2013 œ 6/22/2019 table of conten...</td>\n",
       "      <td>0</td>\n",
       "      <td>[ii, mou, table, of, contents, page, work, sch...</td>\n",
       "    </tr>\n",
       "    <tr>\n",
       "      <th>19</th>\n",
       "      <td>iii mou 01 7/2/2013 œ 6/22/2019 table of conte...</td>\n",
       "      <td>0</td>\n",
       "      <td>[iii, mou, table, of, contents, page, salary, ...</td>\n",
       "    </tr>\n",
       "    <tr>\n",
       "      <th>20</th>\n",
       "      <td>1 mou01 7/2/2013 œ 6/30/2016 article 1.0 gener...</td>\n",
       "      <td>0</td>\n",
       "      <td>[mou, article, general, provision, article, re...</td>\n",
       "    </tr>\n",
       "  </tbody>\n",
       "</table>\n",
       "</div>"
      ],
      "text/plain": [
       "                                                 content  compensation  \\\n",
       "pages                                                                    \n",
       "16     memorandum of understanding no. 1 for submissi...             0   \n",
       "17     i mou 01 7/2/2013 œ 6/30/2016 table of content...             0   \n",
       "18     ii mou 01 7/2/2013 œ 6/22/2019 table of conten...             0   \n",
       "19     iii mou 01 7/2/2013 œ 6/22/2019 table of conte...             0   \n",
       "20     1 mou01 7/2/2013 œ 6/30/2016 article 1.0 gener...             0   \n",
       "\n",
       "                                                  tokens  \n",
       "pages                                                     \n",
       "16     [memorandum, of, understanding, no, for, submi...  \n",
       "17     [i, mou, table, of, contents, page, general, p...  \n",
       "18     [ii, mou, table, of, contents, page, work, sch...  \n",
       "19     [iii, mou, table, of, contents, page, salary, ...  \n",
       "20     [mou, article, general, provision, article, re...  "
      ]
     },
     "execution_count": 59,
     "metadata": {},
     "output_type": "execute_result"
    }
   ],
   "source": [
    "from nltk.tokenize import RegexpTokenizer\n",
    "from ast import literal_eval\n",
    "\n",
    "tokenizer = RegexpTokenizer(r'[A-Za-z]+|\\$[\\d\\.]+|[\\d\\.]+\\%')\n",
    "\n",
    "myData_clean['tokens'] = myData_clean['content'].apply(tokenizer.tokenize)\n",
    "\n",
    "myData_clean.head()"
   ]
  },
  {
   "cell_type": "code",
   "execution_count": 65,
   "metadata": {},
   "outputs": [
    {
     "data": {
      "text/html": [
       "<div>\n",
       "<style scoped>\n",
       "    .dataframe tbody tr th:only-of-type {\n",
       "        vertical-align: middle;\n",
       "    }\n",
       "\n",
       "    .dataframe tbody tr th {\n",
       "        vertical-align: top;\n",
       "    }\n",
       "\n",
       "    .dataframe thead th {\n",
       "        text-align: right;\n",
       "    }\n",
       "</style>\n",
       "<table border=\"1\" class=\"dataframe\">\n",
       "  <thead>\n",
       "    <tr style=\"text-align: right;\">\n",
       "      <th></th>\n",
       "      <th>content</th>\n",
       "      <th>compensation</th>\n",
       "      <th>tokens</th>\n",
       "    </tr>\n",
       "    <tr>\n",
       "      <th>pages</th>\n",
       "      <th></th>\n",
       "      <th></th>\n",
       "      <th></th>\n",
       "    </tr>\n",
       "  </thead>\n",
       "  <tbody>\n",
       "    <tr>\n",
       "      <th>16</th>\n",
       "      <td>memorandum of understanding no. 1 for submissi...</td>\n",
       "      <td>0</td>\n",
       "      <td>[memorandum, understanding, submission, city, ...</td>\n",
       "    </tr>\n",
       "    <tr>\n",
       "      <th>17</th>\n",
       "      <td>i mou 01 7/2/2013 œ 6/30/2016 table of content...</td>\n",
       "      <td>0</td>\n",
       "      <td>[i, mou, table, of, contents, page, general, p...</td>\n",
       "    </tr>\n",
       "    <tr>\n",
       "      <th>18</th>\n",
       "      <td>ii mou 01 7/2/2013 œ 6/22/2019 table of conten...</td>\n",
       "      <td>0</td>\n",
       "      <td>[ii, mou, table, of, contents, page, work, sch...</td>\n",
       "    </tr>\n",
       "    <tr>\n",
       "      <th>19</th>\n",
       "      <td>iii mou 01 7/2/2013 œ 6/22/2019 table of conte...</td>\n",
       "      <td>0</td>\n",
       "      <td>[iii, mou, table, of, contents, page, salary, ...</td>\n",
       "    </tr>\n",
       "    <tr>\n",
       "      <th>20</th>\n",
       "      <td>1 mou01 7/2/2013 œ 6/30/2016 article 1.0 gener...</td>\n",
       "      <td>0</td>\n",
       "      <td>[mou, article, general, provision, article, re...</td>\n",
       "    </tr>\n",
       "  </tbody>\n",
       "</table>\n",
       "</div>"
      ],
      "text/plain": [
       "                                                 content  compensation  \\\n",
       "pages                                                                    \n",
       "16     memorandum of understanding no. 1 for submissi...             0   \n",
       "17     i mou 01 7/2/2013 œ 6/30/2016 table of content...             0   \n",
       "18     ii mou 01 7/2/2013 œ 6/22/2019 table of conten...             0   \n",
       "19     iii mou 01 7/2/2013 œ 6/22/2019 table of conte...             0   \n",
       "20     1 mou01 7/2/2013 œ 6/30/2016 article 1.0 gener...             0   \n",
       "\n",
       "                                                  tokens  \n",
       "pages                                                     \n",
       "16     [memorandum, understanding, submission, city, ...  \n",
       "17     [i, mou, table, of, contents, page, general, p...  \n",
       "18     [ii, mou, table, of, contents, page, work, sch...  \n",
       "19     [iii, mou, table, of, contents, page, salary, ...  \n",
       "20     [mou, article, general, provision, article, re...  "
      ]
     },
     "execution_count": 65,
     "metadata": {},
     "output_type": "execute_result"
    }
   ],
   "source": [
    "myData_clean.to_csv('LAData_tokens.csv', encoding='utf-8')\n",
    "LAData_tokens = pd.read_csv('LAData_tokens.csv', index_col = 'pages', names = ['pages', 'content', 'compensation', 'tokens'], header=0)\n",
    "LAData_tokens['tokens'] = LAData_tokens['tokens'].apply(literal_eval)\n",
    "LAData_tokens.head()\n",
    "#LAData_tokens.describe()\n",
    "#LAData_tokens.dtypes"
   ]
  },
  {
   "cell_type": "code",
   "execution_count": 66,
   "metadata": {},
   "outputs": [],
   "source": [
    "from nltk.corpus import stopwords\n",
    "\n",
    "LAData_tokens['tokens'] = LAData_tokens['tokens'].apply(lambda x: [word for word in x if word not in stopwords.words('english')])\n",
    "LAData_tokens.head()"
   ]
  },
  {
   "cell_type": "code",
   "execution_count": 67,
   "metadata": {},
   "outputs": [
    {
     "data": {
      "text/html": [
       "<div>\n",
       "<style scoped>\n",
       "    .dataframe tbody tr th:only-of-type {\n",
       "        vertical-align: middle;\n",
       "    }\n",
       "\n",
       "    .dataframe tbody tr th {\n",
       "        vertical-align: top;\n",
       "    }\n",
       "\n",
       "    .dataframe thead th {\n",
       "        text-align: right;\n",
       "    }\n",
       "</style>\n",
       "<table border=\"1\" class=\"dataframe\">\n",
       "  <thead>\n",
       "    <tr style=\"text-align: right;\">\n",
       "      <th></th>\n",
       "      <th>content</th>\n",
       "      <th>compensation</th>\n",
       "      <th>tokens</th>\n",
       "    </tr>\n",
       "    <tr>\n",
       "      <th>pages</th>\n",
       "      <th></th>\n",
       "      <th></th>\n",
       "      <th></th>\n",
       "    </tr>\n",
       "  </thead>\n",
       "  <tbody>\n",
       "    <tr>\n",
       "      <th>16</th>\n",
       "      <td>memorandum of understanding no. 1 for submissi...</td>\n",
       "      <td>0</td>\n",
       "      <td>[memorandum, understanding, submission, city, ...</td>\n",
       "    </tr>\n",
       "    <tr>\n",
       "      <th>17</th>\n",
       "      <td>i mou 01 7/2/2013 œ 6/30/2016 table of content...</td>\n",
       "      <td>0</td>\n",
       "      <td>[mou, table, contents, page, general, provisio...</td>\n",
       "    </tr>\n",
       "    <tr>\n",
       "      <th>18</th>\n",
       "      <td>ii mou 01 7/2/2013 œ 6/22/2019 table of conten...</td>\n",
       "      <td>0</td>\n",
       "      <td>[ii, mou, table, contents, page, work, schedul...</td>\n",
       "    </tr>\n",
       "    <tr>\n",
       "      <th>19</th>\n",
       "      <td>iii mou 01 7/2/2013 œ 6/22/2019 table of conte...</td>\n",
       "      <td>0</td>\n",
       "      <td>[iii, mou, table, contents, page, salary, note...</td>\n",
       "    </tr>\n",
       "    <tr>\n",
       "      <th>20</th>\n",
       "      <td>1 mou01 7/2/2013 œ 6/30/2016 article 1.0 gener...</td>\n",
       "      <td>0</td>\n",
       "      <td>[mou, article, general, provision, article, re...</td>\n",
       "    </tr>\n",
       "  </tbody>\n",
       "</table>\n",
       "</div>"
      ],
      "text/plain": [
       "                                                 content  compensation  \\\n",
       "pages                                                                    \n",
       "16     memorandum of understanding no. 1 for submissi...             0   \n",
       "17     i mou 01 7/2/2013 œ 6/30/2016 table of content...             0   \n",
       "18     ii mou 01 7/2/2013 œ 6/22/2019 table of conten...             0   \n",
       "19     iii mou 01 7/2/2013 œ 6/22/2019 table of conte...             0   \n",
       "20     1 mou01 7/2/2013 œ 6/30/2016 article 1.0 gener...             0   \n",
       "\n",
       "                                                  tokens  \n",
       "pages                                                     \n",
       "16     [memorandum, understanding, submission, city, ...  \n",
       "17     [mou, table, contents, page, general, provisio...  \n",
       "18     [ii, mou, table, contents, page, work, schedul...  \n",
       "19     [iii, mou, table, contents, page, salary, note...  \n",
       "20     [mou, article, general, provision, article, re...  "
      ]
     },
     "execution_count": 67,
     "metadata": {},
     "output_type": "execute_result"
    }
   ],
   "source": [
    "LAData_tokens.to_csv('LAData_nosw.csv', encoding='utf-8')\n",
    "LAData_nosw = pd.read_csv('LAData_nosw.csv', index_col = 'pages', names = ['pages', 'content', 'compensation', 'tokens'], header=0)\n",
    "LAData_nosw['tokens'] = LAData_nosw['tokens'].apply(literal_eval)\n",
    "LAData_nosw.head()\n",
    "#LAData_nosw.describe()\n",
    "#LAData_nosw.dtypes"
   ]
  },
  {
   "cell_type": "code",
   "execution_count": 68,
   "metadata": {},
   "outputs": [
    {
     "data": {
      "text/html": [
       "<div>\n",
       "<style scoped>\n",
       "    .dataframe tbody tr th:only-of-type {\n",
       "        vertical-align: middle;\n",
       "    }\n",
       "\n",
       "    .dataframe tbody tr th {\n",
       "        vertical-align: top;\n",
       "    }\n",
       "\n",
       "    .dataframe thead th {\n",
       "        text-align: right;\n",
       "    }\n",
       "</style>\n",
       "<table border=\"1\" class=\"dataframe\">\n",
       "  <thead>\n",
       "    <tr style=\"text-align: right;\">\n",
       "      <th></th>\n",
       "      <th>content</th>\n",
       "      <th>compensation</th>\n",
       "      <th>tokens</th>\n",
       "      <th>stemm</th>\n",
       "    </tr>\n",
       "    <tr>\n",
       "      <th>pages</th>\n",
       "      <th></th>\n",
       "      <th></th>\n",
       "      <th></th>\n",
       "      <th></th>\n",
       "    </tr>\n",
       "  </thead>\n",
       "  <tbody>\n",
       "    <tr>\n",
       "      <th>16</th>\n",
       "      <td>memorandum of understanding no. 1 for submissi...</td>\n",
       "      <td>0</td>\n",
       "      <td>[memorandum, understanding, submission, city, ...</td>\n",
       "      <td>[memorandum, understand, submiss, citi, counci...</td>\n",
       "    </tr>\n",
       "    <tr>\n",
       "      <th>17</th>\n",
       "      <td>i mou 01 7/2/2013 œ 6/30/2016 table of content...</td>\n",
       "      <td>0</td>\n",
       "      <td>[mou, table, contents, page, general, provisio...</td>\n",
       "      <td>[mou, tabl, content, page, gener, provis, reco...</td>\n",
       "    </tr>\n",
       "    <tr>\n",
       "      <th>18</th>\n",
       "      <td>ii mou 01 7/2/2013 œ 6/22/2019 table of conten...</td>\n",
       "      <td>0</td>\n",
       "      <td>[ii, mou, table, contents, page, work, schedul...</td>\n",
       "      <td>[ii, mou, tabl, content, page, work, schedul, ...</td>\n",
       "    </tr>\n",
       "    <tr>\n",
       "      <th>19</th>\n",
       "      <td>iii mou 01 7/2/2013 œ 6/22/2019 table of conte...</td>\n",
       "      <td>0</td>\n",
       "      <td>[iii, mou, table, contents, page, salary, note...</td>\n",
       "      <td>[iii, mou, tabl, content, page, salari, note, ...</td>\n",
       "    </tr>\n",
       "    <tr>\n",
       "      <th>20</th>\n",
       "      <td>1 mou01 7/2/2013 œ 6/30/2016 article 1.0 gener...</td>\n",
       "      <td>0</td>\n",
       "      <td>[mou, article, general, provision, article, re...</td>\n",
       "      <td>[mou, articl, gener, provis, articl, recognit,...</td>\n",
       "    </tr>\n",
       "  </tbody>\n",
       "</table>\n",
       "</div>"
      ],
      "text/plain": [
       "                                                 content  compensation  \\\n",
       "pages                                                                    \n",
       "16     memorandum of understanding no. 1 for submissi...             0   \n",
       "17     i mou 01 7/2/2013 œ 6/30/2016 table of content...             0   \n",
       "18     ii mou 01 7/2/2013 œ 6/22/2019 table of conten...             0   \n",
       "19     iii mou 01 7/2/2013 œ 6/22/2019 table of conte...             0   \n",
       "20     1 mou01 7/2/2013 œ 6/30/2016 article 1.0 gener...             0   \n",
       "\n",
       "                                                  tokens  \\\n",
       "pages                                                      \n",
       "16     [memorandum, understanding, submission, city, ...   \n",
       "17     [mou, table, contents, page, general, provisio...   \n",
       "18     [ii, mou, table, contents, page, work, schedul...   \n",
       "19     [iii, mou, table, contents, page, salary, note...   \n",
       "20     [mou, article, general, provision, article, re...   \n",
       "\n",
       "                                                   stemm  \n",
       "pages                                                     \n",
       "16     [memorandum, understand, submiss, citi, counci...  \n",
       "17     [mou, tabl, content, page, gener, provis, reco...  \n",
       "18     [ii, mou, tabl, content, page, work, schedul, ...  \n",
       "19     [iii, mou, tabl, content, page, salari, note, ...  \n",
       "20     [mou, articl, gener, provis, articl, recognit,...  "
      ]
     },
     "execution_count": 68,
     "metadata": {},
     "output_type": "execute_result"
    }
   ],
   "source": [
    "from nltk.stem import PorterStemmer\n",
    "\n",
    "stemmer = PorterStemmer()\n",
    "\n",
    "LAData_nosw['stemm'] = LAData_nosw['tokens'].apply(lambda x : [stemmer.stem(item) for item in x])\n",
    "LAData_nosw.head()"
   ]
  },
  {
   "cell_type": "code",
   "execution_count": 110,
   "metadata": {},
   "outputs": [],
   "source": [
    "LAData_nosw.to_csv('LAData_stemm.csv', encoding='utf-8')\n",
    "LAData_stemm = pd.read_csv('LAData_stemm.csv', index_col = 'pages', names = ['pages', 'content', 'compensation', 'tokens', 'stemm'], header=0)\n",
    "LAData_stemm['tokens'] = LAData_stemm['tokens'].apply(literal_eval)\n",
    "LAData_stemm['stemm'] = LAData_stemm['stemm'].apply(literal_eval)\n",
    "#LAData_stemm.head()\n",
    "#LAData_stemm.describe()\n",
    "#LAData_stemm.dtypes"
   ]
  },
  {
   "cell_type": "code",
   "execution_count": 119,
   "metadata": {
    "scrolled": true
   },
   "outputs": [
    {
     "name": "stdout",
     "output_type": "stream",
     "text": [
      "Tokens: 1265572\n",
      "Vocabulary: 25780\n"
     ]
    }
   ],
   "source": [
    "all_words = [word for tokens in LAData_stemm['tokens'] for word in tokens]\n",
    "vocab = sorted(set(all_words))\n",
    "#print(\"%s words total, with a vocabulary size of %s\" % (len(all_words), len(vocab)))\n",
    "print(\"Tokens:\", len(all_words))\n",
    "print(\"Vocabulary:\", len(vocab))"
   ]
  },
  {
   "cell_type": "code",
   "execution_count": 117,
   "metadata": {},
   "outputs": [
    {
     "name": "stdout",
     "output_type": "stream",
     "text": [
      "[('employe', 38069), ('shall', 31803), ('time', 14685), ('citi', 12852), ('leav', 12843), ('manag', 12160), ('day', 11321), ('work', 10799), ('articl', 10750), ('mou', 10357), ('hour', 9328), ('may', 7898), ('period', 7676), ('servic', 7256), ('pay', 7207), ('step', 6846), ('depart', 6781), ('provid', 6767), ('grievanc', 6508), ('ii', 6428), ('salari', 6406), ('compens', 5954), ('bw', 5856), ('offic', 5610), ('union', 5601), ('receiv', 5596), ('provis', 5574), ('section', 5495), ('unit', 5292), ('b', 5148), ('assign', 4978), ('oper', 4796), ('supervisor', 4790), ('rate', 4777), ('within', 4758), ('c', 4639), ('request', 4596), ('one', 4591), ('date', 4571), ('follow', 4527), ('benefit', 4521), ('parti', 4490), ('member', 4453), ('requir', 4408), ('e', 4342), ('effect', 4297), ('use', 4266), ('year', 4125), ('schedul', 4102), ('class', 4027)]\n"
     ]
    },
    {
     "data": {
      "image/png": "[encoded data removed]",
      "text/plain": [
       "<Figure size 432x288 with 1 Axes>"
      ]
     },
     "metadata": {
      "needs_background": "light"
     },
     "output_type": "display_data"
    }
   ],
   "source": [
    "stemm_words = [word for tokens in LAData_stemm['stemm'] for word in tokens]\n",
    "freq_dist = nltk.FreqDist(stemm_words)\n",
    "print(freq_dist.most_common(50))\n",
    "freq_dist.plot(50)"
   ]
  },
  {
   "cell_type": "code",
   "execution_count": null,
   "metadata": {},
   "outputs": [],
   "source": []
  },
  {
   "cell_type": "code",
   "execution_count": 96,
   "metadata": {},
   "outputs": [
    {
     "data": {
      "text/plain": [
       "'myPdf_By_Contract = dict()\\nfor i, element in enumerate(new_contract_first_page):\\n    if i < len(new_contract_first_page)-1:\\n        myPdf_By_Contract[i] = [myPdf_copy[x] for x in range(element, new_contract_first_page[i+1])]\\nmyPdf_By_Contract[i] = [myPdf_copy[x] for x in (range(element, len(myPdf_copy)))]'"
      ]
     },
     "execution_count": 96,
     "metadata": {},
     "output_type": "execute_result"
    }
   ],
   "source": [
    "'''new_contract_first_page = list()\n",
    "for key, value in myPdf_copy.items():\n",
    "    if 'this memorandum of understanding made' in value:\n",
    "        new_contract_first_page.append(key)'''  \n",
    "\n",
    "'''print(len(new_contract_first_page))'''\n",
    "\n",
    "'''print(new_contract_first_page)'''\n",
    "\n",
    "'''new_contract_first_page.append(5469-1) #not added automatically due to junmple considered as space (un derstanding)\n",
    "new_contract_first_page.append(5930-1) #not added automtically due to image input (not uncoded)\n",
    "new_contract_first_page.append(6997-1) #not added automtically due to image input (not uncoded)\n",
    "print(len(new_contract_first_page))'''\n",
    "\n",
    "'''new_contract_first_page.sort()\n",
    "print(new_contract_first_page)'''\n",
    "\n",
    "'''myPdf_By_Contract = dict()\n",
    "for i, element in enumerate(new_contract_first_page):\n",
    "    if i < len(new_contract_first_page)-1:\n",
    "        myPdf_By_Contract[i] = [myPdf_copy[x] for x in range(element, new_contract_first_page[i+1])]\n",
    "myPdf_By_Contract[i] = [myPdf_copy[x] for x in (range(element, len(myPdf_copy)))]'''"
   ]
  },
  {
   "cell_type": "code",
   "execution_count": 200,
   "metadata": {},
   "outputs": [
    {
     "data": {
      "text/plain": [
       "'from nltk.stem import WordNetLemmatizer\\n\\nlemmatizer = WordNetLemmatizer()\\nlemmatise = list()\\nfor i in range(len(pos_tokens)):\\n    for j in range(i):\\n        lemmatise.append(lemmatizer.lemmatize(pos_tokens[i][j][0], get_wordnet_pos(pos_tokens[i][j][1])))'"
      ]
     },
     "execution_count": 200,
     "metadata": {},
     "output_type": "execute_result"
    }
   ],
   "source": [
    "'''from nltk import pos_tag\n",
    "pos_tokens = list()\n",
    "for index in range(len(tokens)):\n",
    "    pos_tokens.append(nltk.pos_tag(tokens[index]))\n",
    "pos_tokens[0][0]'''\n",
    "\n",
    "'''from nltk.corpus import wordnet\n",
    "\n",
    "def get_wordnet_pos(treebank_tag):\n",
    "\n",
    "    if treebank_tag.startswith('J'):\n",
    "        return wordnet.ADJ\n",
    "    elif treebank_tag.startswith('V'):\n",
    "        return wordnet.VERB\n",
    "    elif treebank_tag.startswith('N'):\n",
    "        return wordnet.NOUN\n",
    "    elif treebank_tag.startswith('R'):\n",
    "        return wordnet.ADV\n",
    "    else:\n",
    "        return '' '''\n",
    "\n",
    "'''poses = [pos[1] for pos in pos_tokens[0]]\n",
    "poses = set(poses)\n",
    "poses'''\n",
    "\n",
    "'''from nltk.stem import WordNetLemmatizer\n",
    "\n",
    "lemmatizer = WordNetLemmatizer()\n",
    "lemmatise = list()\n",
    "for i in range(len(pos_tokens)):\n",
    "    for j in range(i):\n",
    "        lemmatise.append(lemmatizer.lemmatize(pos_tokens[i][j][0], get_wordnet_pos(pos_tokens[i][j][1])))'''"
   ]
  }
 ],
 "metadata": {
  "kernelspec": {
   "display_name": "Python 3",
   "language": "python",
   "name": "python3"
  },
  "language_info": {
   "codemirror_mode": {
    "name": "ipython",
    "version": 3
   },
   "file_extension": ".py",
   "mimetype": "text/x-python",
   "name": "python",
   "nbconvert_exporter": "python",
   "pygments_lexer": "ipython3",
   "version": "3.7.1"
  }
 },
 "nbformat": 4,
 "nbformat_minor": 2
}
